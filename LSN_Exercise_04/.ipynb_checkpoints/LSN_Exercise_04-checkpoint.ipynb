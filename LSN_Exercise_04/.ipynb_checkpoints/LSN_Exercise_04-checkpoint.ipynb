{
 "cells": [
  {
   "cell_type": "markdown",
   "metadata": {},
   "source": [
    "# Numerical Simulation Laboratory\n",
    "\n",
    "## Numerical exercise 4 \n",
    "La cartella contiene i vari files organizzati nelle seguenti cartelle:\n",
    "- <font color='red'>**Code**</font>: contiene il codice dei tre esercizi: ogni file è compilabile attraverso il comando *make nome_file.exe*.\n",
    "- **<font color='red'>Files</font>**: contiene i files di output contenenti i dati necessari per costruire i grafici.\n",
    "- **<font color='red'>Pictures</font>**: contiene eventuali immagini riportate nel notebook.\n",
    "\n",
    "Il codice è stato organizzato nel seguente modo:\n",
    "- <font color='red'>*exercise_1.cpp*</font> codice relativo all'esercizio 03.1: simulazione delle *European option*.\n",
    "- <font color='red'>*random.cpp*</font> contiene il codice necessario per la generazione di numeri casuali.\n",
    "- <font color='red'>*statistics.cpp*</font> contiene la definizione di alcune funzioni utilizzate negli esercizi per le stime dei valori medi e delle incertezze statistiche."
   ]
  },
  {
   "cell_type": "markdown",
   "metadata": {},
   "source": [
    "### Exercise 04.1"
   ]
  },
  {
   "cell_type": "markdown",
   "metadata": {},
   "source": [
    "### Exercise 04.2"
   ]
  },
  {
   "cell_type": "markdown",
   "metadata": {},
   "source": [
    "### Exercise 04.3"
   ]
  },
  {
   "cell_type": "markdown",
   "metadata": {},
   "source": [
    "### Exercise 04.4"
   ]
  },
  {
   "cell_type": "code",
   "execution_count": null,
   "metadata": {},
   "outputs": [],
   "source": []
  }
 ],
 "metadata": {
  "kernelspec": {
   "display_name": "Python 3",
   "language": "python",
   "name": "python3"
  },
  "language_info": {
   "codemirror_mode": {
    "name": "ipython",
    "version": 3
   },
   "file_extension": ".py",
   "mimetype": "text/x-python",
   "name": "python",
   "nbconvert_exporter": "python",
   "pygments_lexer": "ipython3",
   "version": "3.7.6"
  }
 },
 "nbformat": 4,
 "nbformat_minor": 4
}
