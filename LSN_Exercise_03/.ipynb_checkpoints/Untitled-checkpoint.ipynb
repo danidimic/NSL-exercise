{
 "cells": [
  {
   "cell_type": "markdown",
   "metadata": {},
   "source": [
    "# Numerical Simulation Laboratory\n",
    "\n",
    "## Numerical exercise 2 \n",
    "La cartella contiene i vari files organizzati nelle seguenti cartelle:\n",
    "- <font color='red'>**Code**</font>: contiene il codice dei tre esercizi: ogni file è compilabile attraverso il comando *nome_file.exe*.\n",
    "- **<font color='red'>Files</font>**: contiene i files di output contenenti i dati necessari per costruire i grafici.\n",
    "- **<font color='red'>Graphs</font>**: contiene tutti i grafici, compresi quelli relativi agli istogrammi che singolarmente non sono stati riportati nel notebook.\n",
    "- **<font color='red'>Images</font>**: contiene eventuali immagini riportate nel notebook.\n",
    "\n",
    "Il codice è stato organizzato nel seguente modo:\n",
    "- <font color='red'>*exercise_1.cpp*</font> corrispondente all'esercizio 1: stima del valore medio, della varianza e del $\\chi^2$ per una distribuzione uniforme di valori.\n",
    "- <font color='red'>*exercise_2.cpp*</font> corrispondente all'esercizio 2: generazione degli istogrammi per la variabile $S_N$ ottenuta a partire da valori distribuiti con probabilità uniforme, esponenziale e lorentziana.\n",
    "- <font color='red'>*exercise_3.cpp*</font> corrispondente all'esercizio 3: stima del valore di $\\pi$ attraverso l'esperimento dell'ago di Buffon.\n",
    "- <font color='red'>*random.cpp*</font> contiene il codice necessario per la generazione di numeri casuali.\n",
    "- <font color='red'>*statistics.cpp*</font> contiene la definizione di alcune funzione utilizzate trasversalmente nei tre esercizi per le stime dei valori medi e delle incertezze statistiche."
   ]
  },
  {
   "cell_type": "code",
   "execution_count": null,
   "metadata": {},
   "outputs": [],
   "source": []
  }
 ],
 "metadata": {
  "kernelspec": {
   "display_name": "Python 3",
   "language": "python",
   "name": "python3"
  },
  "language_info": {
   "codemirror_mode": {
    "name": "ipython",
    "version": 3
   },
   "file_extension": ".py",
   "mimetype": "text/x-python",
   "name": "python",
   "nbconvert_exporter": "python",
   "pygments_lexer": "ipython3",
   "version": "3.7.6"
  }
 },
 "nbformat": 4,
 "nbformat_minor": 4
}
